{
 "cells": [
  {
   "attachments": {},
   "cell_type": "markdown",
   "metadata": {},
   "source": [
    "## Flujos de Control"
   ]
  },
  {
   "attachments": {},
   "cell_type": "markdown",
   "metadata": {},
   "source": [
    "1) Crear una variable que contenga un elemento del conjunto de números enteros y luego imprimir por pantalla si es mayor o menor a cero"
   ]
  },
  {
   "cell_type": "code",
   "execution_count": 91,
   "metadata": {},
   "outputs": [
    {
     "name": "stdout",
     "output_type": "stream",
     "text": [
      "a es mayor a 0\n"
     ]
    }
   ],
   "source": [
    "a = 9\n",
    "if a>0:\n",
    "    print(\"a es mayor a 0\")\n",
    "elif a<0:\n",
    "    print(\"a es menor que 0\")\n",
    "else:\n",
    "    print(\"a es igual a 0\")"
   ]
  },
  {
   "attachments": {},
   "cell_type": "markdown",
   "metadata": {},
   "source": [
    "2) Crear dos variables y un condicional que informe si son del mismo tipo de dato"
   ]
  },
  {
   "cell_type": "code",
   "execution_count": 92,
   "metadata": {},
   "outputs": [
    {
     "name": "stdout",
     "output_type": "stream",
     "text": [
      "Son diferentes tipos de datos\n"
     ]
    }
   ],
   "source": [
    "a = 9\n",
    "b = \"Fabio\"\n",
    "if type(a) == type(b):\n",
    "    print(\"Es el mismo tipo de dato\")\n",
    "else:\n",
    "    print(\"Son diferentes tipos de datos\")"
   ]
  },
  {
   "cell_type": "code",
   "execution_count": 93,
   "metadata": {},
   "outputs": [
    {
     "name": "stdout",
     "output_type": "stream",
     "text": [
      "Las variables 3.2 y 2 son del mismo tipo de dato\n"
     ]
    }
   ],
   "source": [
    "# El formato utilizado a continuación en el print es conocido como f-string o formatted string literals en Python. Las f-strings permiten incrustar expresiones dentro de una cadena de texto mediante llaves {} y el prefijo \"f\" antes de la cadena. Dentro de las llaves, puedes colocar variables, expresiones o incluso invocar funciones para su evaluación e inclusión en la cadena resultante.\n",
    "a = 3.2\n",
    "b = 2\n",
    "print(f'Las variables {a} y {b} son del mismo tipo de dato')"
   ]
  },
  {
   "attachments": {},
   "cell_type": "markdown",
   "metadata": {},
   "source": [
    "3) Para los valores enteros del 1 al 20, imprimir por pantalla si es par o impar"
   ]
  },
  {
   "cell_type": "code",
   "execution_count": 94,
   "metadata": {},
   "outputs": [
    {
     "name": "stdout",
     "output_type": "stream",
     "text": [
      "El número  1  es impar\n",
      "El número  2  es par\n",
      "El número  3  es impar\n",
      "El número  4  es par\n",
      "El número  5  es impar\n",
      "El número  6  es par\n",
      "El número  7  es impar\n",
      "El número  8  es par\n",
      "El número  9  es impar\n",
      "El número  10  es par\n",
      "El número  11  es impar\n",
      "El número  12  es par\n",
      "El número  13  es impar\n",
      "El número  14  es par\n",
      "El número  15  es impar\n",
      "El número  16  es par\n",
      "El número  17  es impar\n",
      "El número  18  es par\n",
      "El número  19  es impar\n",
      "El número  20  es par\n"
     ]
    }
   ],
   "source": [
    "# Con For\n",
    "\n",
    "for a in range(1,21):\n",
    "    if a%2 == 0:\n",
    "        print(\"El número \",str(a),\" es par\")\n",
    "    else:\n",
    "        print(\"El número \", str(a),\" es impar\")\n"
   ]
  },
  {
   "cell_type": "code",
   "execution_count": 95,
   "metadata": {},
   "outputs": [
    {
     "name": "stdout",
     "output_type": "stream",
     "text": [
      "El numero 1 es impar\n",
      "El numero 2 es par\n",
      "El numero 3 es impar\n",
      "El numero 4 es par\n",
      "El numero 5 es impar\n",
      "El numero 6 es par\n",
      "El numero 7 es impar\n",
      "El numero 8 es par\n",
      "El numero 9 es impar\n",
      "El numero 10 es par\n",
      "El numero 11 es impar\n",
      "El numero 12 es par\n",
      "El numero 13 es impar\n",
      "El numero 14 es par\n",
      "El numero 15 es impar\n",
      "El numero 16 es par\n",
      "El numero 17 es impar\n",
      "El numero 18 es par\n",
      "El numero 19 es impar\n",
      "El numero 20 es par\n"
     ]
    }
   ],
   "source": [
    "# Con while\n",
    "\n",
    "i = 1\n",
    "while (i <= 20):\n",
    "    if (i % 2 == 0):\n",
    "        print(f'El numero {i} es par')\n",
    "    else:\n",
    "        print(f'El numero {i} es impar')\n",
    "    i = i + 1"
   ]
  },
  {
   "attachments": {},
   "cell_type": "markdown",
   "metadata": {},
   "source": [
    "4) En un ciclo for mostrar para los valores entre 0 y 5 el resultado de elevarlo a la potencia igual a 3"
   ]
  },
  {
   "cell_type": "code",
   "execution_count": 96,
   "metadata": {},
   "outputs": [
    {
     "name": "stdout",
     "output_type": "stream",
     "text": [
      "0 Elevado a la tercerca potencia es  0\n",
      "1 Elevado a la tercerca potencia es  1\n",
      "2 Elevado a la tercerca potencia es  8\n",
      "3 Elevado a la tercerca potencia es  27\n",
      "4 Elevado a la tercerca potencia es  64\n",
      "5 Elevado a la tercerca potencia es  125\n"
     ]
    }
   ],
   "source": [
    "# Con While\n",
    "a = 0\n",
    "while(a <= 5):\n",
    "    potencia = a**3\n",
    "    print(a, \"Elevado a la tercerca potencia es \", potencia)\n",
    "    a = a+1\n",
    "    "
   ]
  },
  {
   "cell_type": "code",
   "execution_count": 97,
   "metadata": {},
   "outputs": [
    {
     "name": "stdout",
     "output_type": "stream",
     "text": [
      "0  Elevado a la tercera potencia es 0\n",
      "1  Elevado a la tercera potencia es 1\n",
      "2  Elevado a la tercera potencia es 8\n",
      "3  Elevado a la tercera potencia es 27\n",
      "4  Elevado a la tercera potencia es 64\n",
      "5  Elevado a la tercera potencia es 125\n"
     ]
    }
   ],
   "source": [
    "# Con For\n",
    "for i in range(0, 6):\n",
    "    print(i, ' Elevado a la tercera potencia es', (i**3))"
   ]
  },
  {
   "attachments": {},
   "cell_type": "markdown",
   "metadata": {},
   "source": [
    "5) Crear una variable que contenga un número entero y realizar un ciclo for la misma cantidad de ciclos"
   ]
  },
  {
   "cell_type": "code",
   "execution_count": 98,
   "metadata": {},
   "outputs": [
    {
     "name": "stdout",
     "output_type": "stream",
     "text": [
      "0\n",
      "1\n",
      "2\n",
      "3\n",
      "4\n",
      "5\n",
      "6\n",
      "7\n",
      "8\n"
     ]
    }
   ],
   "source": [
    "a = 9\n",
    "for i in range(0,a):\n",
    "    print(i)"
   ]
  },
  {
   "attachments": {},
   "cell_type": "markdown",
   "metadata": {},
   "source": [
    "6) Utilizar un ciclo while para realizar el factorial de un número guardado en una variable, sólo si la variable contiene un número entero mayor a 0"
   ]
  },
  {
   "cell_type": "code",
   "execution_count": null,
   "metadata": {},
   "outputs": [
    {
     "name": "stdout",
     "output_type": "stream",
     "text": [
      "El número factorial es 362880\n"
     ]
    },
    {
     "name": "stdout",
     "output_type": "stream",
     "text": [
      "El número factorial es 362880\n"
     ]
    }
   ],
   "source": [
    "a = 9\n",
    "if type(a) == int:\n",
    "    if a > 0:\n",
    "        factorial = a \n",
    "        while (a > 2):\n",
    "            a = a-1\n",
    "            factorial = factorial * a\n",
    "        print(\"El número factorial es\",factorial)\n",
    "    else:\n",
    "        print(\"El número no es mayor a 0\")\n",
    "else:\n",
    "    print(\"El número no es entero\")"
   ]
  },
  {
   "cell_type": "code",
   "execution_count": null,
   "metadata": {},
   "outputs": [
    {
     "name": "stdout",
     "output_type": "stream",
     "text": [
      "362880\n"
     ]
    }
   ],
   "source": [
    "# resolución con bucle for\n",
    "\n",
    "numero = 9\n",
    "factorial = 1\n",
    "for i in range(2, (numero + 1)):\n",
    "    factorial = i * factorial\n",
    "print(factorial)"
   ]
  },
  {
   "attachments": {},
   "cell_type": "markdown",
   "metadata": {},
   "source": [
    "7) Crear un ciclo for dentro de un ciclo while"
   ]
  },
  {
   "cell_type": "code",
   "execution_count": null,
   "metadata": {},
   "outputs": [
    {
     "name": "stdout",
     "output_type": "stream",
     "text": [
      "Ciclo While 1\n",
      "Ciclo For 1\n",
      "Ciclo While 2\n",
      "Ciclo For 1\n",
      "Ciclo For 2\n",
      "Ciclo While 3\n",
      "Ciclo For 1\n",
      "Ciclo For 2\n",
      "Ciclo For 3\n"
     ]
    }
   ],
   "source": [
    "a = 1\n",
    "while (a <= 3):\n",
    "    print(\"Ciclo While\", a)\n",
    "    for i in range(1, a+1):\n",
    "        print(\"Ciclo For\", i)\n",
    "    a += 1"
   ]
  },
  {
   "attachments": {},
   "cell_type": "markdown",
   "metadata": {},
   "source": [
    "8) Crear un ciclo while dentro de un ciclo for"
   ]
  },
  {
   "cell_type": "code",
   "execution_count": 104,
   "metadata": {},
   "outputs": [
    {
     "name": "stdout",
     "output_type": "stream",
     "text": [
      "1 Ciclo For\n",
      "0 Ciclo While\n",
      "2 Ciclo For\n",
      "1 Ciclo While\n",
      "3 Ciclo For\n",
      "2 Ciclo While\n",
      "4 Ciclo For\n",
      "3 Ciclo While\n",
      "5 Ciclo For\n",
      "4 Ciclo While\n",
      "6 Ciclo For\n",
      "5 Ciclo While\n",
      "7 Ciclo For\n",
      "6 Ciclo While\n",
      "8 Ciclo For\n",
      "7 Ciclo While\n",
      "9 Ciclo For\n",
      "8 Ciclo While\n",
      "10 Ciclo For\n",
      "9 Ciclo While\n"
     ]
    }
   ],
   "source": [
    "for a in range(0,10):\n",
    "    numero = a + 1\n",
    "    print(numero, \"Ciclo For\")\n",
    "    while numero>10:\n",
    "        break\n",
    "    num2 = numero-1\n",
    "    print (num2, \"Ciclo While\")\n",
    "        "
   ]
  },
  {
   "cell_type": "code",
   "execution_count": null,
   "metadata": {},
   "outputs": [],
   "source": [
    "n = 5\n",
    "for i in range(1, n):\n",
    "    while(n < 5):\n",
    "        n -= 1\n",
    "        print('Ciclo while nro ' + str(n))\n",
    "        print('Ciclo for nro ' + str(i))"
   ]
  },
  {
   "cell_type": "code",
   "execution_count": null,
   "metadata": {},
   "outputs": [],
   "source": [
    "n = 5\n",
    "for i in range(1, n):\n",
    "    print('Ciclo for nro ' + str(i))  # Imprime el número del ciclo for\n",
    "    \n",
    "    n_temp = n  # Almacena el valor original de n en una variable temporal\n",
    "    \n",
    "    while n_temp > 0:  # Ciclo while que se ejecuta mientras n_temp sea mayor que 0\n",
    "        print('Ciclo while nro ' + str(n_temp))  # Imprime el número del ciclo while\n",
    "        n_temp -= 1\n",
    "        \n",
    "        if n_temp <= 0:\n",
    "            break  # Sale del ciclo while cuando n_temp sea menor o igual a 0"
   ]
  },
  {
   "attachments": {},
   "cell_type": "markdown",
   "metadata": {},
   "source": [
    "9) Imprimir los números primos existentes entre 0 y 30"
   ]
  },
  {
   "cell_type": "code",
   "execution_count": 110,
   "metadata": {},
   "outputs": [
    {
     "name": "stdout",
     "output_type": "stream",
     "text": [
      "0\n",
      "1\n",
      "2\n",
      "3\n",
      "5\n",
      "7\n",
      "11\n",
      "13\n",
      "17\n",
      "19\n",
      "23\n",
      "29\n"
     ]
    }
   ],
   "source": [
    "a = 0\n",
    "b = 30\n",
    "primo = True\n",
    "\n",
    "while a < b:  # Comenzamos un bucle while que se ejecutará mientras a sea menor que el valor máximo\n",
    "    for div in range(2, a): # Comenzamos un bucle for que itera desde 2 hasta a-1\n",
    "        if a % div == 0: # Comprobamos si a es divisible entre div\n",
    "            primo = False # Si es divisible, marcamos primo como falso\n",
    "    \n",
    "    if primo: # Verificamos si la variable primo es verdadera\n",
    "        print(a) # Si es verdadera, significa que a es un número primo, por lo que lo imprimimos\n",
    "    else: # Si primo es falso, significa que a no es un número primo, por lo que lo restablecemos a verdadero\n",
    "        primo = True\n",
    "    \n",
    "    a += 1 # Incrementamos a en 1 para pasar al siguiente número"
   ]
  },
  {
   "attachments": {},
   "cell_type": "markdown",
   "metadata": {},
   "source": [
    "10) ¿Se puede mejorar el proceso del punto 9? Utilizar las sentencias break y/ó continue para tal fin"
   ]
  },
  {
   "cell_type": "code",
   "execution_count": 111,
   "metadata": {},
   "outputs": [
    {
     "name": "stdout",
     "output_type": "stream",
     "text": [
      "0\n",
      "1\n",
      "2\n",
      "3\n",
      "5\n",
      "7\n",
      "11\n",
      "13\n",
      "17\n",
      "19\n",
      "23\n",
      "29\n"
     ]
    }
   ],
   "source": [
    "a = 0\n",
    "b = 30\n",
    "primo = True\n",
    "\n",
    "while (a < b):\n",
    "    for div in range(2, a):\n",
    "        if (a % div == 0):\n",
    "            primo = False\n",
    "            break\n",
    "    if (primo):\n",
    "        print(a)\n",
    "    else:\n",
    "        primo = True\n",
    "    a += 1"
   ]
  },
  {
   "attachments": {},
   "cell_type": "markdown",
   "metadata": {},
   "source": [
    "11) En los puntos 9 y 10, se diseño un código que encuentra números primos y además se lo optimizó. ¿Es posible saber en qué medida se optimizó?"
   ]
  },
  {
   "cell_type": "code",
   "execution_count": 114,
   "metadata": {},
   "outputs": [
    {
     "name": "stdout",
     "output_type": "stream",
     "text": [
      "0\n",
      "1\n",
      "2\n",
      "3\n",
      "5\n",
      "7\n",
      "11\n",
      "13\n",
      "17\n",
      "19\n",
      "23\n",
      "29\n",
      "Ciclos 378\n"
     ]
    }
   ],
   "source": [
    "ciclos = 0\n",
    "a = 0\n",
    "b = 30\n",
    "primo = True\n",
    "\n",
    "while a < b:  # Comenzamos un bucle while que se ejecutará mientras a sea menor que el valor máximo\n",
    "    for div in range(2, a): # Comenzamos un bucle for que itera desde 2 hasta a-1\n",
    "        ciclos += 1 # Incremento de un nuevo ciclo del script\n",
    "        if a % div == 0: # Comprobamos si a es divisible entre div\n",
    "            primo = False # Si es divisible, marcamos primo como falso\n",
    "    \n",
    "    if primo: # Verificamos si la variable primo es verdadera\n",
    "        print(a) # Si es verdadera, significa que a es un número primo, por lo que lo imprimimos\n",
    "    else: # Si primo es falso, significa que a no es un número primo, por lo que lo restablecemos a verdadero\n",
    "        primo = True\n",
    "    \n",
    "    a += 1 # Incrementamos a en 1 para pasar al siguiente número\n",
    "print(\"Ciclos\", ciclos)"
   ]
  },
  {
   "attachments": {},
   "cell_type": "markdown",
   "metadata": {},
   "source": [
    "12) Aplicando continue, armar un ciclo while que solo imprima los valores divisibles por 12, dentro del rango de números de 100 a 300"
   ]
  },
  {
   "cell_type": "code",
   "execution_count": 118,
   "metadata": {},
   "outputs": [
    {
     "name": "stdout",
     "output_type": "stream",
     "text": [
      "El número 108 es divisible por 12\n",
      "El número 120 es divisible por 12\n",
      "El número 132 es divisible por 12\n",
      "El número 144 es divisible por 12\n",
      "El número 156 es divisible por 12\n",
      "El número 168 es divisible por 12\n",
      "El número 180 es divisible por 12\n",
      "El número 192 es divisible por 12\n",
      "El número 204 es divisible por 12\n",
      "El número 216 es divisible por 12\n",
      "El número 228 es divisible por 12\n",
      "El número 240 es divisible por 12\n",
      "El número 252 es divisible por 12\n",
      "El número 264 es divisible por 12\n",
      "El número 276 es divisible por 12\n",
      "El número 288 es divisible por 12\n",
      "El número 300 es divisible por 12\n"
     ]
    }
   ],
   "source": [
    "a = 99\n",
    "b = 300\n",
    "\n",
    "while a <= b:\n",
    "    a+=1\n",
    "    if a % 12 != 0:\n",
    "        continue\n",
    "    print(\"El número\", a, \"es divisible por 12\")"
   ]
  },
  {
   "cell_type": "code",
   "execution_count": null,
   "metadata": {},
   "outputs": [],
   "source": [
    "# Inicializamos la variable n en 99\n",
    "n = 99\n",
    "\n",
    "# Comenzamos un bucle while que se ejecutará mientras n sea menor o igual a 300\n",
    "while n <= 300:\n",
    "    # Incrementamos n en 1 para pasar al siguiente número\n",
    "    n += 1\n",
    "    \n",
    "    # Comprobamos si n no es divisible por 12 utilizando el operador de módulo (%)\n",
    "    if n % 12 != 0:\n",
    "        # Si n no es divisible por 12, se ejecuta la instrucción 'continue' para volver al inicio del bucle while\n",
    "        # y saltar a la siguiente iteración sin ejecutar el código que sigue\n",
    "        continue\n",
    "    \n",
    "    # Si se llega a esta línea de código, significa que n es divisible por 12\n",
    "    # por lo que se imprime el mensaje indicando que n es divisible por 12\n",
    "    print(n, 'es divisible por 12')"
   ]
  },
  {
   "attachments": {},
   "cell_type": "markdown",
   "metadata": {},
   "source": [
    "13) Utilizar la función **input()** que permite hacer ingresos por teclado, para encontrar números primos y dar la opción al usario de buscar el siguiente"
   ]
  },
  {
   "cell_type": "code",
   "execution_count": 121,
   "metadata": {},
   "outputs": [
    {
     "name": "stdout",
     "output_type": "stream",
     "text": [
      "1\n",
      "¿Desea consultar el siguiente número primo?\n",
      "Fin de proceso\n"
     ]
    }
   ],
   "source": [
    "a = 1 # Inicializamos la variable n en 1\n",
    "pasar = 1 # Inicializamos la variable sigue en 1, esto indica si el proceso de búsqueda continúa\n",
    "primo = True # Inicializamos la variable primo como verdadera\n",
    "\n",
    "while pasar == 1:  # Comenzamos un bucle while que se ejecutará mientras sigue sea igual a 1\n",
    "    for div in range(2, a): # Comenzamos un bucle for que itera desde 2 hasta a-1\n",
    "        if a % div == 0: # Comprobamos si n es divisible entre div\n",
    "            primo = False # Si es divisible, marcamos primo como falso\n",
    "            break\n",
    "    \n",
    "    if primo: # Verificamos si la variable primo es verdadera\n",
    "        print(a) # Si es verdadera, significa que a es un número primo, por lo que lo imprimimos\n",
    "        print('¿Desea consultar el siguiente número primo?')\n",
    "\n",
    "        if input() != '1':  # Leemos la entrada del usuario para determinar si se continúa o se finaliza el proceso\n",
    "            print('Fin de proceso')\n",
    "            break\n",
    "\n",
    "    else: # Si primo es falso, significa que n no es un número primo, por lo que lo restablecemos a verdadero\n",
    "        primo = True\n",
    "    \n",
    "    a += 1 # Incrementamos a en 1 para pasar al siguiente número"
   ]
  },
  {
   "cell_type": "code",
   "execution_count": 122,
   "metadata": {},
   "outputs": [
    {
     "name": "stdout",
     "output_type": "stream",
     "text": [
      "1\n",
      "¿Desea encontrar el siguiente número primo?\n",
      "Se finaliza el proceso\n"
     ]
    }
   ],
   "source": [
    "# Inicializamos la variable n en 1\n",
    "n = 1\n",
    "\n",
    "# Inicializamos la variable sigue en 1, esto indica si el proceso de búsqueda continúa\n",
    "sigue = 1\n",
    "\n",
    "# Inicializamos la variable primo como verdadera\n",
    "primo = True\n",
    "\n",
    "# Comenzamos un bucle while que se ejecutará mientras sigue sea igual a 1\n",
    "while sigue == 1:\n",
    "    # Comenzamos un bucle for que itera desde 2 hasta n-1\n",
    "    for div in range(2, n):\n",
    "        # Comprobamos si n es divisible entre div\n",
    "        if n % div == 0:\n",
    "            # Si es divisible, marcamos primo como falso y salimos del bucle for\n",
    "            primo = False\n",
    "            break\n",
    "    \n",
    "    # Verificamos si la variable primo es verdadera\n",
    "    if primo:\n",
    "        # Si es verdadera, significa que n es un número primo, por lo que lo imprimimos\n",
    "        print(n)\n",
    "        print('¿Desea encontrar el siguiente número primo?')\n",
    "        \n",
    "        # Leemos la entrada del usuario para determinar si se continúa o se finaliza el proceso\n",
    "        if input() != '1':\n",
    "            print('Se finaliza el proceso')\n",
    "            break\n",
    "    else:\n",
    "        # Si primo es falso, significa que n no es un número primo, por lo que lo restablecemos a verdadero\n",
    "        primo = True\n",
    "    \n",
    "    # Incrementamos n en 1 para pasar al siguiente número\n",
    "    n += 1\n"
   ]
  },
  {
   "attachments": {},
   "cell_type": "markdown",
   "metadata": {},
   "source": [
    "14) Crear un ciclo while que encuentre dentro del rango de 100 a 300 el primer número divisible por 3 y además múltiplo de 6"
   ]
  },
  {
   "cell_type": "code",
   "execution_count": 135,
   "metadata": {},
   "outputs": [
    {
     "name": "stdout",
     "output_type": "stream",
     "text": [
      "102 es divisible por 3 y multiplo de 6\n"
     ]
    }
   ],
   "source": [
    "# CICLO WHILE\n",
    "\n",
    "a = 100\n",
    "while a <= 300:\n",
    "    if a % 6 == 0:\n",
    "        print(a, \"es divisible por 3 y multiplo de 6\")\n",
    "        break\n",
    "    a += 1"
   ]
  },
  {
   "cell_type": "code",
   "execution_count": 133,
   "metadata": {},
   "outputs": [
    {
     "name": "stdout",
     "output_type": "stream",
     "text": [
      "102 es divisible por 3 y multiplo de 6\n"
     ]
    }
   ],
   "source": [
    "# CICLO FOR\n",
    "\n",
    "for n in range(100,300):\n",
    "    if n % 6 == 0:\n",
    "        print (n, \"es divisible por 3 y multiplo de 6\")\n",
    "        break"
   ]
  }
 ],
 "metadata": {
  "interpreter": {
   "hash": "c85384e4cb51c8b72350f3a8712cc8351fdc3955e32a27f9b60c6242ab125f01"
  },
  "kernelspec": {
   "display_name": "Python 3 (ipykernel)",
   "language": "python",
   "name": "python3"
  },
  "language_info": {
   "codemirror_mode": {
    "name": "ipython",
    "version": 3
   },
   "file_extension": ".py",
   "mimetype": "text/x-python",
   "name": "python",
   "nbconvert_exporter": "python",
   "pygments_lexer": "ipython3",
   "version": "3.12.2"
  }
 },
 "nbformat": 4,
 "nbformat_minor": 4
}
